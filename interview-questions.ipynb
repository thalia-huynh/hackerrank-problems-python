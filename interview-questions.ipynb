{
 "cells": [
  {
   "attachments": {},
   "cell_type": "markdown",
   "id": "961fb9e3",
   "metadata": {},
   "source": [
    "### Sharpest Minds"
   ]
  },
  {
   "attachments": {},
   "cell_type": "markdown",
   "id": "a5667b9b",
   "metadata": {},
   "source": [
    "1. If you’re currently employed, why you don’t you like your current job? If you’re not, what are some of the ideal aspects you’re looking for in a data science or data analyst job? What specifically excites you and why do you want to do it?\n",
    "\n",
    "I'm looking for a data science position for my next role so that I can better make an impact with data. With the amount of data that's being produced daily, I feel like there is so much to unearth -- so many problems that can be solved, more many processes that can be made more efficient. I'm looking to go beyond the descriptive stats and work alongside other bright professionals to find patterns in the data, make predictions, and address business problems."
   ]
  },
  {
   "attachments": {},
   "cell_type": "markdown",
   "id": "4706909a",
   "metadata": {},
   "source": [
    "2. Out of all of your data analyst projects what was the one you're most proud of and why?\n",
    "\n",
    "Of all of my data analyst projects at Kaiser, I was most proud of (and intrigued by) the study that dealth with ACE (adverse childhood experiences) scores and how pregnant women with higher ACE scores are less likely to seek help and show up to prenatal appointments. This project dealt with going through freely written notes from the patients' medical charts -- and, as you'd expect, those notes were a hot mess to deal with. That was when I self-taught myself regex so that I could better locate the pieces of information that I needed. I was preiously intimidated by regex but eventually learned to enjoy it. This experience led me to become more interested in text data."
   ]
  },
  {
   "cell_type": "markdown",
   "id": "d67a67b0",
   "metadata": {},
   "source": [
    "### Ace the DS Interview: Probability"
   ]
  },
  {
   "attachments": {},
   "cell_type": "markdown",
   "id": "602425a7",
   "metadata": {},
   "source": [
    "1. (Easy) Two teams play a series of games (best of 7 -- whoever wins 4 games first) in which each team has a 50% chance of winning any given round (no draws allowed). Waht is the probability that the series goes to 7 games?\n",
    "\n",
    "There are a total of 2^6 = 64 possible outcomes for a best-of-seven series. To find the probability that the series goes to seven games, we need to count the number of outcomes where each team wins three games and then the seventh game is played.\n",
    "\n",
    "The number of ways to choose which three of the first six games are won by one team (and hence, lost by the other team) is given by the binomial coefficient C(6,3) = 20. For each of these outcomes, there is exactly one way to arrange the remaining three wins and three losses such that each team wins three games, and the series goes to the seventh game.\n",
    "\n",
    "Therefore, the total number of outcomes where the series goes to seven games is 20. The total number of possible outcomes is 64. Thus, the probability that the series goes to seven games is 20/64 = 5/16.\n",
    "\n",
    "(To calculate the binomial coefficient C(6,3) (also known as \"6 choose 3\"), you can use the formula:\n",
    "\n",
    "C(n, k) = n! / (k! * (n-k)!)\n",
    "\n",
    "where n is the total number of items to choose from, and k is the number of items to choose. The exclamation mark denotes the factorial function, which means the product of all positive integers up to a given number. For example, 6! = 6 x 5 x 4 x 3 x 2 x 1 = 720.\n",
    "\n",
    "So to calculate C(6,3), we can substitute n=6 and k=3 into the formula:\n",
    "\n",
    "C(6,3) = 6! / (3! * (6-3)!)\n",
    "= 6! / (3! * 3!)\n",
    "= (6 x 5 x 4 x 3 x 2 x 1) / ((3 x 2 x 1) x (3 x 2 x 1))\n",
    "= 20\n",
    "\n",
    "Therefore, C(6,3) = 20, which means there are 20 ways to choose 3 items from a set of 6 items.)"
   ]
  },
  {
   "attachments": {},
   "cell_type": "markdown",
   "id": "b87e0f91",
   "metadata": {},
   "source": [
    "2. (Easy) Say you roll a die three times. What is the probability of getting two sixes in row?\n",
    "\n",
    "2[((1/6)**2)*(5/6)] = 10/216 because there are two cases of this happening -- first two rolls are 6 and last 2 rolls are 6.\n",
    "\n",
    "(1/6)**3 = 1/216 is the probability that all three rolls are sixes.\n",
    "\n",
    "10/216 + 1/216 = 11/216"
   ]
  },
  {
   "cell_type": "code",
   "execution_count": 54,
   "id": "3b0a7beb",
   "metadata": {},
   "outputs": [
    {
     "data": {
      "text/plain": [
       "['r', 'b', 't', 'o', 'g', 'c', 'i', 'a', 'd']"
      ]
     },
     "execution_count": 54,
     "metadata": {},
     "output_type": "execute_result"
    }
   ],
   "source": []
  },
  {
   "cell_type": "code",
   "execution_count": null,
   "id": "56c49623",
   "metadata": {},
   "outputs": [],
   "source": []
  }
 ],
 "metadata": {
  "kernelspec": {
   "display_name": "Python 3",
   "language": "python",
   "name": "python3"
  },
  "language_info": {
   "codemirror_mode": {
    "name": "ipython",
    "version": 3
   },
   "file_extension": ".py",
   "mimetype": "text/x-python",
   "name": "python",
   "nbconvert_exporter": "python",
   "pygments_lexer": "ipython3",
   "version": "3.8.5"
  },
  "vscode": {
   "interpreter": {
    "hash": "8a5edab282632443219e051e4ade2d1d5bbc671c781051bf1437897cbdfea0f1"
   }
  }
 },
 "nbformat": 4,
 "nbformat_minor": 5
}
