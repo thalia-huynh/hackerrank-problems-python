{
 "cells": [
  {
   "attachments": {},
   "cell_type": "markdown",
   "id": "961fb9e3",
   "metadata": {},
   "source": [
    "### Sharpest Minds"
   ]
  },
  {
   "attachments": {},
   "cell_type": "markdown",
   "id": "a5667b9b",
   "metadata": {},
   "source": [
    "1. If you’re currently employed, why you don’t you like your current job? If you’re not, what are some of the ideal aspects you’re looking for in a data science or data analyst job? What specifically excites you and why do you want to do it?\n",
    "\n",
    "I'm looking for a data science position for my next role so that I can better make an impact with data. With the amount of data that's being produced daily, I feel like there is so much to unearth -- so many problems that can be solved, more many processes that can be made more efficient. I'm looking to go beyond the descriptive stats and work alongside other bright professionals to find patterns in the data, make predictions, and address business problems."
   ]
  },
  {
   "attachments": {},
   "cell_type": "markdown",
   "id": "4706909a",
   "metadata": {},
   "source": [
    "2. Out of all of your data analyst projects what was the one you're most proud of and why?\n",
    "\n",
    "Of all of my data analyst projects at Kaiser, I was most proud of (and intrigued by) the study that dealth with ACE (adverse childhood experiences) scores and how pregnant women with higher ACE scores are less likely to seek help and show up to prenatal appointments. This project dealt with going through freely written notes from the patients' medical charts -- and, as you'd expect, those notes were a hot mess to deal with. That was when I self-taught myself regex so that I could better locate the pieces of information that I needed. I was preiously intimidated by regex but eventually learned to enjoy it. This experience led me to become more interested in text data."
   ]
  }
 ],
 "metadata": {
  "kernelspec": {
   "display_name": "Python 3 (ipykernel)",
   "language": "python",
   "name": "python3"
  },
  "language_info": {
   "codemirror_mode": {
    "name": "ipython",
    "version": 3
   },
   "file_extension": ".py",
   "mimetype": "text/x-python",
   "name": "python",
   "nbconvert_exporter": "python",
   "pygments_lexer": "ipython3",
   "version": "3.9.7"
  }
 },
 "nbformat": 4,
 "nbformat_minor": 5
}
