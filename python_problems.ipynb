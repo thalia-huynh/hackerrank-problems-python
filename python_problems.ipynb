{
 "cells": [
  {
   "cell_type": "markdown",
   "id": "05b4a412",
   "metadata": {},
   "source": [
    "### Mini-Max Sum"
   ]
  },
  {
   "cell_type": "markdown",
   "id": "ac6e4c78",
   "metadata": {},
   "source": [
    "Given 5 positive integers, find the min and max values that can be calculated by adding exactly 4 of the 5 integers.<br><br>\n",
    "Sample Input:<br>\n",
    "1 2 3 4 5<br><br>\n",
    "Sample Output:<br>\n",
    "16 24"
   ]
  },
  {
   "cell_type": "code",
   "execution_count": 24,
   "id": "c2d45b7f",
   "metadata": {},
   "outputs": [],
   "source": [
    "def miniMaxSum(arr):\n",
    "    arr.sort()\n",
    "    min_sum = sum(arr[:4])\n",
    "    max_sum = sum(arr[1:])\n",
    "    print(min_sum, max_sum)"
   ]
  },
  {
   "cell_type": "code",
   "execution_count": 25,
   "id": "c688b890",
   "metadata": {},
   "outputs": [
    {
     "name": "stdout",
     "output_type": "stream",
     "text": [
      "10 14\n"
     ]
    }
   ],
   "source": [
    "miniMaxSum([1,2, 3, 4, 5])"
   ]
  },
  {
   "cell_type": "markdown",
   "id": "8c3decbd",
   "metadata": {},
   "source": [
    "<b>Notes</b><br>\n",
    "- <i>arr.sort()</i> sorts original list in place while <i>sorted(arr)</i> returns a new list.\n",
    "- Originally ended with <i>return min_sum, max_sum</i> which resulted in output of <i>10, 14</i> but output needed to be <i>10 14</i> which was accomplished with <i>print(min_sum, max_sum)</i>."
   ]
  },
  {
   "cell_type": "code",
   "execution_count": null,
   "id": "b5641e1b",
   "metadata": {},
   "outputs": [],
   "source": []
  },
  {
   "cell_type": "code",
   "execution_count": null,
   "id": "3202c6d7",
   "metadata": {},
   "outputs": [],
   "source": []
  },
  {
   "cell_type": "code",
   "execution_count": null,
   "id": "a7cad4a8",
   "metadata": {},
   "outputs": [],
   "source": []
  }
 ],
 "metadata": {
  "kernelspec": {
   "display_name": "Python 3 (ipykernel)",
   "language": "python",
   "name": "python3"
  },
  "language_info": {
   "codemirror_mode": {
    "name": "ipython",
    "version": 3
   },
   "file_extension": ".py",
   "mimetype": "text/x-python",
   "name": "python",
   "nbconvert_exporter": "python",
   "pygments_lexer": "ipython3",
   "version": "3.9.7"
  }
 },
 "nbformat": 4,
 "nbformat_minor": 5
}
