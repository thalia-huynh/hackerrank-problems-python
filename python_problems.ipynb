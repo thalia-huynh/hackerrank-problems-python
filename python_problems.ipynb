{
 "cells": [
  {
   "cell_type": "markdown",
   "id": "05b4a412",
   "metadata": {},
   "source": [
    "### Mini-Max Sum"
   ]
  },
  {
   "cell_type": "markdown",
   "id": "ac6e4c78",
   "metadata": {},
   "source": [
    "Given 5 positive integers, find the min and max values that can be calculated by adding exactly 4 of the 5 integers.<br><br>\n",
    "Sample Input:<br>\n",
    "1 2 3 4 5<br><br>\n",
    "Sample Output:<br>\n",
    "16 24"
   ]
  },
  {
   "cell_type": "code",
   "execution_count": 8,
   "id": "c2d45b7f",
   "metadata": {},
   "outputs": [],
   "source": [
    "def miniMaxSum(arr):\n",
    "    arr.sort()\n",
    "    min_sum = sum(arr[:4])\n",
    "    max_sum = sum(arr[1:])\n",
    "    print(min_sum, max_sum)"
   ]
  },
  {
   "cell_type": "code",
   "execution_count": 9,
   "id": "c688b890",
   "metadata": {},
   "outputs": [
    {
     "name": "stdout",
     "output_type": "stream",
     "text": [
      "10 14\n"
     ]
    }
   ],
   "source": [
    "miniMaxSum([1,2, 3, 4, 5])"
   ]
  },
  {
   "cell_type": "markdown",
   "id": "8c3decbd",
   "metadata": {},
   "source": [
    "<b>Notes</b><br>\n",
    "- <i>arr.sort()</i> sorts original list in place while <i>sorted(arr)</i> returns a new list.\n",
    "- Originally ended with <i>return min_sum, max_sum</i> which resulted in output of <i>10, 14</i> but output needed to be <i>10 14</i> which was accomplished with <i>print(min_sum, max_sum)</i>."
   ]
  },
  {
   "cell_type": "markdown",
   "id": "b5641e1b",
   "metadata": {},
   "source": [
    "### Birthday Cake Candles"
   ]
  },
  {
   "attachments": {},
   "cell_type": "markdown",
   "id": "2c60ee8f",
   "metadata": {},
   "source": [
    "![Alt text](Screen%20Shot%202023-02-13%20at%2010.33.32%20AM.png)"
   ]
  },
  {
   "cell_type": "code",
   "execution_count": 10,
   "id": "a7cad4a8",
   "metadata": {},
   "outputs": [],
   "source": [
    "def birthdayCakeCandles(candles):\n",
    "    max_height = max(candles)\n",
    "    candle_count = 0\n",
    "    for i in range(candles_count):\n",
    "        if candles[i] == max_height:\n",
    "            candle_count += 1\n",
    "        else:\n",
    "            pass\n",
    "    return candle_count"
   ]
  },
  {
   "cell_type": "code",
   "execution_count": 13,
   "id": "3eb41c40",
   "metadata": {},
   "outputs": [],
   "source": [
    "# another person's code\n",
    "def birthdayCakeCandles(candles):\n",
    "    # Write your code here\n",
    "    return candles.count(max(candles))"
   ]
  },
  {
   "attachments": {},
   "cell_type": "markdown",
   "id": "672e9015",
   "metadata": {},
   "source": [
    "### Time Conversion"
   ]
  },
  {
   "attachments": {},
   "cell_type": "markdown",
   "id": "d4c2c7a2",
   "metadata": {},
   "source": [
    "![Alt text](Screen%20Shot%202023-02-13%20at%2010.19.45%20AM.png)"
   ]
  },
  {
   "cell_type": "code",
   "execution_count": 16,
   "id": "aa3651c5",
   "metadata": {},
   "outputs": [],
   "source": [
    "def timeConversions(s):\n",
    "    if 'AM' in s:\n",
    "        if '12:' in s:\n",
    "            return '00' + s[2:-2]\n",
    "        else:\n",
    "            return s[:-2]\n",
    "    elif 'PM' in s:\n",
    "        if '12:' in s:\n",
    "            return s[:-2]\n",
    "        else:\n",
    "            hour = str(int(s[0:2]) + 12)\n",
    "            return hour + s[2:-2]"
   ]
  },
  {
   "cell_type": "code",
   "execution_count": 17,
   "id": "653bcd25",
   "metadata": {},
   "outputs": [
    {
     "data": {
      "text/plain": [
       "'07:40:03'"
      ]
     },
     "execution_count": 17,
     "metadata": {},
     "output_type": "execute_result"
    }
   ],
   "source": [
    "timeConversions('07:40:03AM')"
   ]
  },
  {
   "attachments": {},
   "cell_type": "markdown",
   "id": "be34502a",
   "metadata": {},
   "source": [
    "#### Notes\n",
    "- using <i>print()</i> gave incorrect answer"
   ]
  },
  {
   "attachments": {},
   "cell_type": "markdown",
   "id": "e24ada37",
   "metadata": {},
   "source": [
    "### Grading Students"
   ]
  },
  {
   "attachments": {},
   "cell_type": "markdown",
   "id": "d426bde3",
   "metadata": {},
   "source": [
    "![Alt text](Screen%20Shot%202023-02-14%20at%202.27.56%20PM.png)"
   ]
  },
  {
   "cell_type": "code",
   "execution_count": 25,
   "id": "5ee76e4a",
   "metadata": {},
   "outputs": [
    {
     "data": {
      "text/plain": [
       "33"
      ]
     },
     "execution_count": 25,
     "metadata": {},
     "output_type": "execute_result"
    }
   ],
   "source": [
    "# original answer which was wrong\n",
    "def gradingStudents(grades):\n",
    "    for i in range(len(grades)):\n",
    "     if grades[i] < 38:\n",
    "        grade = grades[i]\n",
    "     else:\n",
    "        if grades[i] % 5 < 3:\n",
    "           grade = grades[i]\n",
    "        elif grades[i] % 5 == 3:\n",
    "           grade = grades[i] + 2\n",
    "        elif grades[i] % 5 == 4:\n",
    "           grade = grades[i] + 1\n",
    "    return grade\n",
    "\n",
    "grades = [73, 67, 38, 33]\n",
    "gradingStudents(grades)"
   ]
  },
  {
   "cell_type": "code",
   "execution_count": 26,
   "id": "6d73aa6f",
   "metadata": {},
   "outputs": [
    {
     "data": {
      "text/plain": [
       "[75, 67, 40, 33]"
      ]
     },
     "execution_count": 26,
     "metadata": {},
     "output_type": "execute_result"
    }
   ],
   "source": [
    "# correct answer\n",
    "def gradingStudents(grades):\n",
    "    for i in range(len(grades)):\n",
    "        a = grades[i] % 5\n",
    "        b = grades[i] - a + 5\n",
    "        c = b - grades[i]\n",
    "        if c < 3 and grades[i] >= 38:\n",
    "            grades[i] = b\n",
    "    return grades\n",
    "\n",
    "grades = [73, 67, 38, 33]\n",
    "gradingStudents(grades)"
   ]
  },
  {
   "cell_type": "markdown",
   "id": "26f95fcd",
   "metadata": {},
   "source": [
    "### Apple and Orange"
   ]
  },
  {
   "attachments": {},
   "cell_type": "markdown",
   "id": "215771dd",
   "metadata": {},
   "source": [
    "![\n",
    "](Screen%20Shot%202023-02-28%20at%2011.22.00%20AM.png)"
   ]
  },
  {
   "attachments": {},
   "cell_type": "markdown",
   "id": "51cf9cd4",
   "metadata": {},
   "source": [
    "![Alt text](Screen%20Shot%202023-02-28%20at%2011.23.08%20AM.png)"
   ]
  },
  {
   "cell_type": "code",
   "execution_count": 5,
   "id": "816a8df8",
   "metadata": {},
   "outputs": [
    {
     "ename": "IndexError",
     "evalue": "list index out of range",
     "output_type": "error",
     "traceback": [
      "\u001b[0;31m---------------------------------------------------------------------------\u001b[0m",
      "\u001b[0;31mIndexError\u001b[0m                                Traceback (most recent call last)",
      "Cell \u001b[0;32mIn[5], line 49\u001b[0m\n\u001b[1;32m     45\u001b[0m apples \u001b[39m=\u001b[39m \u001b[39mlist\u001b[39m(\u001b[39mmap\u001b[39m(\u001b[39mint\u001b[39m, \u001b[39minput\u001b[39m()\u001b[39m.\u001b[39mrstrip()\u001b[39m.\u001b[39msplit()))\n\u001b[1;32m     47\u001b[0m oranges \u001b[39m=\u001b[39m \u001b[39mlist\u001b[39m(\u001b[39mmap\u001b[39m(\u001b[39mint\u001b[39m, \u001b[39minput\u001b[39m()\u001b[39m.\u001b[39mrstrip()\u001b[39m.\u001b[39msplit()))\n\u001b[0;32m---> 49\u001b[0m countApplesAndOranges(s, t, a, b, apples, oranges)\n",
      "Cell \u001b[0;32mIn[5], line 17\u001b[0m, in \u001b[0;36mcountApplesAndOranges\u001b[0;34m(s, t, a, b, apples, oranges)\u001b[0m\n\u001b[1;32m     14\u001b[0m         \u001b[39mpass\u001b[39;00m\n\u001b[1;32m     16\u001b[0m \u001b[39mfor\u001b[39;00m i \u001b[39min\u001b[39;00m oranges:\n\u001b[0;32m---> 17\u001b[0m     orange_distance \u001b[39m=\u001b[39m oranges[i] \u001b[39m+\u001b[39m orange_tree\n\u001b[1;32m     18\u001b[0m     \u001b[39mif\u001b[39;00m orange_distance \u001b[39min\u001b[39;00m \u001b[39mrange\u001b[39m(s, t\u001b[39m+\u001b[39m\u001b[39m1\u001b[39m):\n\u001b[1;32m     19\u001b[0m         orange_count \u001b[39m+\u001b[39m\u001b[39m=\u001b[39m \u001b[39m1\u001b[39m\n",
      "\u001b[0;31mIndexError\u001b[0m: list index out of range"
     ]
    }
   ],
   "source": [
    "def countApplesAndOranges(s, t, a, b, apples, oranges):\n",
    "    house = range(s, t+1)\n",
    "    apple_tree = int(a)\n",
    "    orange_tree = int(b)\n",
    "    \n",
    "    apple_count = 0\n",
    "    orange_count = 0\n",
    "    \n",
    "    for i in apples:\n",
    "        apple_distance = apples[i] + apple_tree\n",
    "        if apple_distance in house:\n",
    "            apple_count += 1\n",
    "        else:\n",
    "            pass\n",
    "\n",
    "    for i in oranges:\n",
    "        orange_distance = oranges[i] + orange_tree\n",
    "        if orange_distance in house:\n",
    "            orange_count += 1\n",
    "        else:\n",
    "            pass\n",
    "    \n",
    "    print(apple_count)\n",
    "    print(orange_count)\n",
    "\n",
    "# my solution which caused error (IndexError: list index out of range)"
   ]
  },
  {
   "cell_type": "code",
   "execution_count": 7,
   "id": "489cf8be",
   "metadata": {},
   "outputs": [],
   "source": [
    "# try again\n",
    "def countApplesAndOranges(s, t, a, b, apples, oranges):\n",
    "    apple_count = 0\n",
    "    orange_count = 0\n",
    "\n",
    "    for apple in apples:\n",
    "        if s <= a+apple <= t:\n",
    "            apple_count += 1\n",
    "        else:\n",
    "            pass\n",
    "    for orange in oranges:\n",
    "        if s <= b+orange <= t:\n",
    "            orange_count += 1\n",
    "    print(apple_count)\n",
    "    print(orange_count)"
   ]
  },
  {
   "attachments": {},
   "cell_type": "markdown",
   "id": "c86dc9e2",
   "metadata": {},
   "source": [
    "** IMPORTANT NOTE TO SELF **<BR>\n",
    "INDEXING ONLY WORKS WHEN USING LEN()<BR>\n",
    "IE. FOR I IN RANGE(LEN(SOME_LIST))<BR>\n",
    "<BR><BR>\n",
    "OTHERWISE, FOR LOOP IS LOOPING BACK ACTUAL VALUES EACH TIME"
   ]
  },
  {
   "attachments": {},
   "cell_type": "markdown",
   "id": "fa1bc334",
   "metadata": {},
   "source": [
    "### Random Practice Problem: Splitting list objects into characters"
   ]
  },
  {
   "cell_type": "markdown",
   "id": "1f937185",
   "metadata": {},
   "source": [
    "NOTE: .split() is only used for STRINGS not LISTS"
   ]
  },
  {
   "cell_type": "code",
   "execution_count": 1,
   "id": "2496836f",
   "metadata": {},
   "outputs": [
    {
     "data": {
      "text/plain": [
       "['a', 'r', 'i', 'd', 'g', 'b', 'o', 'c', 't']"
      ]
     },
     "execution_count": 1,
     "metadata": {},
     "output_type": "execute_result"
    }
   ],
   "source": [
    "pets = ['cat','dog','rabbit']\n",
    "\n",
    "letter_list = []\n",
    "for pet in pets:\n",
    "    for letter in pet:\n",
    "        letter_list.append(letter)\n",
    "\n",
    "[[letter_list.append(letter) for letter in pet] for pet in pets]\n",
    "list(set(letter_list))"
   ]
  },
  {
   "cell_type": "markdown",
   "id": "3fd17fc6",
   "metadata": {},
   "source": [
    "### Breaking the Records"
   ]
  },
  {
   "attachments": {},
   "cell_type": "markdown",
   "id": "aff8d692",
   "metadata": {},
   "source": [
    "![Alt text](Screen%20Shot%202023-03-03%20at%201.11.18%20PM.png)"
   ]
  },
  {
   "cell_type": "code",
   "execution_count": 7,
   "id": "4bf5345a",
   "metadata": {},
   "outputs": [
    {
     "data": {
      "text/plain": [
       "(4, 2)"
      ]
     },
     "execution_count": 7,
     "metadata": {},
     "output_type": "execute_result"
    }
   ],
   "source": [
    "def breakingRecords(scores):\n",
    "    min_score = scores[0]\n",
    "    max_score = scores[0]\n",
    "\n",
    "    min_count = 0\n",
    "    max_count = 0\n",
    "\n",
    "    for score in scores:\n",
    "        if score < min_score:\n",
    "            min_count += 1\n",
    "            min_score = score\n",
    "    \n",
    "    for score in scores:\n",
    "        if score > max_score:\n",
    "            max_count += 1\n",
    "            max_score = score\n",
    "        else:\n",
    "            pass\n",
    "    \n",
    "    return max_count, min_count\n",
    "\n",
    "breakingRecords([10, 5 ,20, 20, 4,5 ,2 ,25, 1])"
   ]
  },
  {
   "attachments": {},
   "cell_type": "markdown",
   "id": "660f3b83",
   "metadata": {},
   "source": [
    "### Utopian Tree"
   ]
  },
  {
   "attachments": {},
   "cell_type": "markdown",
   "id": "72da021b",
   "metadata": {},
   "source": [
    "![Alt text](Screen%20Shot%202023-03-03%20at%202.13.09%20PM.png)"
   ]
  },
  {
   "cell_type": "code",
   "execution_count": null,
   "id": "f199759f",
   "metadata": {},
   "outputs": [],
   "source": [
    "def utopianTree(n):\n",
    "    # Write your code here\n",
    "    height = 1\n",
    "    count = 0\n",
    "    \n",
    "    while n > 0: \n",
    "        if count%2 == 0:\n",
    "            height *= 2\n",
    "            n -= 1\n",
    "            count += 1\n",
    "        else: \n",
    "            height += 1\n",
    "            n -=1\n",
    "            count +=1\n",
    "                    \n",
    "    \n",
    "    return height"
   ]
  },
  {
   "cell_type": "markdown",
   "id": "d0b505e3",
   "metadata": {},
   "source": [
    "### Between Two Sets"
   ]
  },
  {
   "attachments": {},
   "cell_type": "markdown",
   "id": "8f4f8ae2",
   "metadata": {},
   "source": [
    "![Alt text](Screen%20Shot%202023-03-05%20at%209.47.34%20AM.png)"
   ]
  },
  {
   "cell_type": "code",
   "execution_count": 1,
   "id": "09a24efc",
   "metadata": {},
   "outputs": [],
   "source": [
    "# not my solution\n",
    "def getTotalX(a, b):\n",
    "    a_set = set()\n",
    "    b_set = set()\n",
    "    for i in range(1, b[-1]+1):\n",
    "        # all() returns True if all items in iterable are true, otherwise returns False\n",
    "        if all([i % v == 0 for v in a]):\n",
    "            a_set.add(i)\n",
    "        if all([v % i == 0 for v in b]):\n",
    "            b_set.add(i)\n",
    "    return len(a_set.intersection(b_set))"
   ]
  },
  {
   "attachments": {},
   "cell_type": "markdown",
   "id": "3776dc75",
   "metadata": {},
   "source": [
    "### String Formatting"
   ]
  },
  {
   "attachments": {},
   "cell_type": "markdown",
   "id": "220d245c",
   "metadata": {},
   "source": [
    "![Alt text](Screen%20Shot%202023-03-05%20at%2010.05.18%20AM.png)"
   ]
  },
  {
   "cell_type": "code",
   "execution_count": 54,
   "id": "c97c2cec",
   "metadata": {},
   "outputs": [
    {
     "name": "stdout",
     "output_type": "stream",
     "text": [
      "    1     1     1     1\n",
      "    2     2     2    10\n",
      "    3     3     3    11\n",
      "    4     4     4   100\n",
      "    5     5     5   101\n",
      "    6     6     6   110\n",
      "    7     7     7   111\n",
      "    8    10     8  1000\n",
      "    9    11     9  1001\n",
      "   10    12     A  1010\n",
      "   11    13     B  1011\n",
      "   12    14     C  1100\n",
      "   13    15     D  1101\n",
      "   14    16     E  1110\n",
      "   15    17     F  1111\n",
      "   16    20    10 10000\n",
      "   17    21    11 10001\n"
     ]
    }
   ],
   "source": [
    "number = 17\n",
    "\n",
    "padding_length = len(bin(number)[2:])\n",
    "\n",
    "for num in range(1, number + 1):\n",
    "    dec_num = str(num)\n",
    "    oct_num = oct(num)[2:]\n",
    "    hex_num = hex(num)[2:].upper()\n",
    "    bin_num = bin(num)[2:]\n",
    "    print(f'{dec_num.rjust(padding_length)} {oct_num.rjust(padding_length)} {hex_num.rjust(padding_length)} {bin_num.rjust(padding_length)}')\n",
    "\n",
    "\n",
    "\n",
    "\n",
    "\n"
   ]
  },
  {
   "cell_type": "markdown",
   "id": "e2eb717d",
   "metadata": {},
   "source": [
    "### Divisible Sum Pairs"
   ]
  },
  {
   "attachments": {},
   "cell_type": "markdown",
   "id": "fbccde26",
   "metadata": {},
   "source": [
    "![Alt text](Screen%20Shot%202023-03-07%20at%205.22.03%20PM.png)"
   ]
  },
  {
   "cell_type": "code",
   "execution_count": 5,
   "id": "a5f69e0b",
   "metadata": {},
   "outputs": [
    {
     "name": "stdout",
     "output_type": "stream",
     "text": [
      "3\n"
     ]
    }
   ],
   "source": [
    "ar = [1,2,3,4,5,6]\n",
    "k = 5\n",
    "counter = 0\n",
    "\n",
    "for i in range(len(ar)):\n",
    "    for j in range(len(ar)):\n",
    "        if (ar[i] < ar[j]) and (ar[i] != ar[j]) and (ar[i] + ar[j]) % k == 0:\n",
    "            counter += 1\n",
    "print(counter)\n",
    "\n",
    "# my solution failed 8 of 20 test cases"
   ]
  },
  {
   "cell_type": "code",
   "execution_count": null,
   "id": "03388a4d",
   "metadata": {},
   "outputs": [],
   "source": [
    "# someone else's solution\n",
    "def divisibleSumPairs(n, k, ar):\n",
    "    count = 0\n",
    "    for i in range(n):\n",
    "        for j in range(i+1,n):\n",
    "            if (ar[i]+ar[j])%k==0:\n",
    "                count+=1\n",
    "    return(count)"
   ]
  },
  {
   "cell_type": "markdown",
   "id": "61bf7a95",
   "metadata": {},
   "source": [
    "^ this is a good one<br>\n",
    "pay attention to use of range(i+1, n)\n",
    "<br>reults in 1+2, 1+3, 1+4, 1+5, 1+6; 2+3, 2+4, 2+5, 2+6, etc."
   ]
  },
  {
   "attachments": {},
   "cell_type": "markdown",
   "id": "ec46ca80",
   "metadata": {},
   "source": [
    "### Migratory Birds"
   ]
  },
  {
   "attachments": {},
   "cell_type": "markdown",
   "id": "a5c0bb9a",
   "metadata": {},
   "source": [
    "![Alt text](Screen%20Shot%202023-03-08%20at%205.38.46%20PM.png)"
   ]
  },
  {
   "cell_type": "code",
   "execution_count": null,
   "id": "05f3e2e8",
   "metadata": {},
   "outputs": [],
   "source": [
    "# not mine\n",
    "def migratoryBirds(arr):\n",
    "    # Write your code here\n",
    "    bird_set = set(arr)\n",
    "    counter = 0\n",
    "    bird_type = []\n",
    "    for bird in bird_set:\n",
    "        if arr.count(bird) > counter :\n",
    "            counter = arr.count(bird)\n",
    "    for bird in bird_set:\n",
    "        if arr.count(bird) == counter:\n",
    "            bird_type.append(bird)\n",
    "    bird_type.sort()\n",
    "    return bird_type[0]"
   ]
  },
  {
   "cell_type": "markdown",
   "id": "d5a8db5d",
   "metadata": {},
   "source": [
    "### Day of the Programmer"
   ]
  },
  {
   "attachments": {},
   "cell_type": "markdown",
   "id": "27e5e6ed",
   "metadata": {},
   "source": [
    "![Alt text](Screen%20Shot%202023-03-09%20at%2010.30.21%20AM.png)"
   ]
  },
  {
   "cell_type": "code",
   "execution_count": null,
   "id": "4b029cb5",
   "metadata": {},
   "outputs": [],
   "source": [
    "def dayOfProgrammer(year):\n",
    "    day_of_prog = 256\n",
    "    # julian calendar\n",
    "    if year < 1918:\n",
    "        # leap year\n",
    "        if year % 4 == 0:\n",
    "            return '12.09.' + str(year)\n",
    "        else:\n",
    "            return '13.09.' + str(year)\n",
    "    # gregorian calendar        \n",
    "    elif year > 1918:\n",
    "        # leap year\n",
    "        if (year % 400 == 0) or (year % 4 == 0 and year % 100 != 0):\n",
    "            return '12.09.' + str(year)\n",
    "        else:\n",
    "            return '13.09.' + str(year)\n",
    "    # if year = 1918\n",
    "    else:\n",
    "        return '26.09.1918'"
   ]
  },
  {
   "cell_type": "markdown",
   "id": "f6992e71",
   "metadata": {},
   "source": [
    "### Sales by Match"
   ]
  },
  {
   "attachments": {},
   "cell_type": "markdown",
   "id": "ab50eb7a",
   "metadata": {},
   "source": [
    "![Alt text](Screen%20Shot%202023-03-10%20at%201.18.34%20PM.png)"
   ]
  },
  {
   "cell_type": "code",
   "execution_count": null,
   "id": "bce52ba7",
   "metadata": {},
   "outputs": [],
   "source": [
    "# my wrong code which results in runtime error (index out of range)\n",
    "\n",
    "def sockMerchant(n, ar):\n",
    "    pair_count = 0\n",
    "    # popping off the first sock to use as 'current sock'\n",
    "    current_sock = ar.pop(0)\n",
    "    # check whether each sock matches with my current sock\n",
    "    # len(ar) - 1 because I popped off first sock and then remove any sock matches\n",
    "    for i in range(len(ar)-1):\n",
    "        if current_sock == ar[i]:\n",
    "            # if there's a match, then remove the sock ..\n",
    "            ar.remove(ar[i])\n",
    "            # .. and add to count ..\n",
    "            pair_count += 1\n",
    "            # .. and change the current sock to the next sock\n",
    "            current_sock = ar[i]\n",
    "        else:\n",
    "            pass\n",
    "    return pair_count"
   ]
  },
  {
   "cell_type": "code",
   "execution_count": null,
   "id": "3348be2b",
   "metadata": {},
   "outputs": [],
   "source": [
    "# next wrong attempt (wrong answer)\n",
    "\n",
    "def sockMerchant(n, ar):\n",
    "    pair_count = 0\n",
    "    sock_set = list(set(ar))\n",
    "    \n",
    "    for sock in sock_set:\n",
    "        sock_pairs = sock_set.count(sock) // 2\n",
    "        pair_count += sock_pairs\n",
    "    \n",
    "    return pair_count"
   ]
  },
  {
   "cell_type": "code",
   "execution_count": null,
   "id": "c2266057",
   "metadata": {},
   "outputs": [],
   "source": [
    "# correct answer (not mine)\n",
    "\n",
    "def sockMerchant(n, ar):\n",
    "    pair_count = 0\n",
    "    sock_set = set(ar)\n",
    "    \n",
    "    for sock in sock_set:\n",
    "        # count socks in ar not sock_set (which only has 1 of each)\n",
    "        sock_pairs = ar.count(sock) // 2\n",
    "        pair_count += sock_pairs\n",
    "    \n",
    "    return pair_count"
   ]
  },
  {
   "cell_type": "markdown",
   "id": "0d3f44a3",
   "metadata": {},
   "source": [
    "### Bill Division"
   ]
  },
  {
   "attachments": {},
   "cell_type": "markdown",
   "id": "3a094d10",
   "metadata": {},
   "source": [
    "![Alt text](Screen%20Shot%202023-03-10%20at%201.49.29%20PM.png)"
   ]
  },
  {
   "cell_type": "code",
   "execution_count": null,
   "id": "983cbe03",
   "metadata": {},
   "outputs": [],
   "source": [
    "# wrong answer (no response on stdout)\n",
    "\n",
    "def bonAppetit(bill, k, b):\n",
    "    for item in bill:\n",
    "        if item == bill[k]:\n",
    "            bill.remove(item)\n",
    "    anna_total = sum(bill) / 2\n",
    "    if anna_total == b:\n",
    "        return 'Bon Appetit'\n",
    "    else:\n",
    "        return anna_total - b"
   ]
  },
  {
   "cell_type": "code",
   "execution_count": null,
   "id": "2c2fc529",
   "metadata": {},
   "outputs": [],
   "source": [
    "# next wrong answer (TypeError: 'NoneType' object is not iterable)\n",
    "\n",
    "def bonAppetit(bill, k, b):\n",
    "    anna_bill = sum(bill.remove(bill[k])) / 2\n",
    "    if anna_bill == b:\n",
    "        return 'Bon Appetit'\n",
    "    else:\n",
    "        return b - anna_bill\n",
    "# remove() does not return any values (explains the NoneType error)"
   ]
  },
  {
   "cell_type": "code",
   "execution_count": null,
   "id": "025e0755",
   "metadata": {},
   "outputs": [],
   "source": [
    "# next wrong answer (no response on stdout)\n",
    "\n",
    "def bonAppetit(bill, k, b):\n",
    "    anna_remove = bill.remove(bill[k])\n",
    "    anna_bill = sum(bill) / 2\n",
    "    if anna_bill == b:\n",
    "        return 'Bon Appetit'\n",
    "    else:\n",
    "        return b - anna_bill\n",
    "\n",
    "# would have worked with print() instead of return"
   ]
  },
  {
   "cell_type": "code",
   "execution_count": null,
   "id": "f3417b52",
   "metadata": {},
   "outputs": [],
   "source": [
    "# right answer\n",
    "\n",
    "def bonAppetit(bill, k, b):\n",
    "    bill.pop(k)\n",
    "    anna_bill = sum(bill) / 2\n",
    "    if anna_bill == b:\n",
    "        print('Bon Appetit')\n",
    "    else:\n",
    "        print(int(b - anna_bill))\n",
    "\n",
    "# pop with return was still incorrect; had to use print()"
   ]
  },
  {
   "cell_type": "markdown",
   "id": "b5902642",
   "metadata": {},
   "source": [
    "### The Hurdle Race"
   ]
  },
  {
   "attachments": {},
   "cell_type": "markdown",
   "id": "6de0aff2",
   "metadata": {},
   "source": [
    "![Alt text](Screen%20Shot%202023-03-10%20at%202.26.35%20PM.png)"
   ]
  },
  {
   "cell_type": "code",
   "execution_count": null,
   "id": "14605c98",
   "metadata": {},
   "outputs": [],
   "source": [
    "def hurdleRace(k, height):\n",
    "    if k >= max(height):\n",
    "        return 0\n",
    "    else:\n",
    "        return (max(height) - k)"
   ]
  },
  {
   "cell_type": "markdown",
   "id": "e9a88d33",
   "metadata": {},
   "source": [
    "### Counting Valleys"
   ]
  },
  {
   "attachments": {},
   "cell_type": "markdown",
   "id": "3b5669d2",
   "metadata": {},
   "source": [
    "![Alt text](Screen%20Shot%202023-03-10%20at%202.59.10%20PM.png)"
   ]
  },
  {
   "cell_type": "code",
   "execution_count": null,
   "id": "d2dd3158",
   "metadata": {},
   "outputs": [],
   "source": [
    "# first try (wrong answer)\n",
    "def countingValleys(steps, path):\n",
    "    # Write your code here\n",
    "    location = 0\n",
    "    for i in range(steps):\n",
    "        if path[i] == 'U':\n",
    "            location += 1\n",
    "        else:\n",
    "            location -= 1\n",
    "    return location\n",
    "# misunderstood problem"
   ]
  },
  {
   "cell_type": "code",
   "execution_count": null,
   "id": "3b60bec3",
   "metadata": {},
   "outputs": [],
   "source": [
    "# second try, also wrong answer\n",
    "def countingValleys(steps, path):\n",
    "    current_location = 0\n",
    "    valley_count = 0\n",
    "    \n",
    "    for step in path:\n",
    "        if step == 'U':\n",
    "            current_location += 1\n",
    "        elif step == 'D':\n",
    "            current_location -= 1\n",
    "            if current_location == 0:\n",
    "                valley_count += 1\n",
    "    return valley_count\n",
    "# pay attention to indentation of second if statement"
   ]
  },
  {
   "cell_type": "code",
   "execution_count": null,
   "id": "5eb41dba",
   "metadata": {},
   "outputs": [],
   "source": [
    "# correct answer (with help)\n",
    "\n",
    "def countingValleys(steps, path):\n",
    "    current_location = 0\n",
    "    valley_count = 0\n",
    "    \n",
    "    for step in path:\n",
    "        if step == 'D':\n",
    "            current_location -= 1\n",
    "        elif step == 'U':\n",
    "            current_location += 1\n",
    "            if current_location == 0:\n",
    "                valley_count += 1\n",
    "    return valley_count\n",
    "# ORDERING OF U AND D ARE IMPORTANT"
   ]
  },
  {
   "cell_type": "markdown",
   "id": "9ab10d56",
   "metadata": {},
   "source": [
    "### Drawing Book"
   ]
  },
  {
   "attachments": {},
   "cell_type": "markdown",
   "id": "598f2211",
   "metadata": {},
   "source": [
    "![Alt text](Screen%20Shot%202023-03-10%20at%205.22.05%20PM.png)"
   ]
  },
  {
   "attachments": {},
   "cell_type": "markdown",
   "id": "df6203b2",
   "metadata": {},
   "source": [
    "![Alt text](Screen%20Shot%202023-03-10%20at%205.22.43%20PM.png)"
   ]
  },
  {
   "cell_type": "code",
   "execution_count": 29,
   "id": "ffb45c29",
   "metadata": {},
   "outputs": [
    {
     "name": "stdout",
     "output_type": "stream",
     "text": [
      "1\n",
      "[1, 2]\n"
     ]
    }
   ],
   "source": [
    "# 7/27 test cases failed on first try\n",
    "def pageCount(n, p):\n",
    "    turn_lst = []\n",
    "    if p % 2 != 0:\n",
    "        forward_turn = int((p - 1) / 2)\n",
    "        turn_lst.append(forward_turn)\n",
    "        backward_turn = int((n+1) / p)\n",
    "        turn_lst.append(backward_turn)\n",
    "    elif p % 2 == 0:\n",
    "        forward_turn = int(p / 2)\n",
    "        turn_lst.append(forward_turn)\n",
    "        backward_turn = int((n-p)/ 2)\n",
    "        turn_lst.append(backward_turn)\n",
    "\n",
    "    smallest_turn = min(turn_lst)\n",
    "    return smallest_turn\n"
   ]
  },
  {
   "cell_type": "code",
   "execution_count": null,
   "id": "ee15e7ed",
   "metadata": {},
   "outputs": [],
   "source": [
    "# someone else's one-liner\n",
    "def pageCount(n, p):\n",
    "    return min( p // 2, n // 2 - p // 2 )"
   ]
  },
  {
   "cell_type": "markdown",
   "id": "c0d8ee4d",
   "metadata": {},
   "source": [
    "### Subarray Division"
   ]
  },
  {
   "attachments": {},
   "cell_type": "markdown",
   "id": "694af5e4",
   "metadata": {},
   "source": [
    "![Alt text](Screen%20Shot%202023-03-29%20at%202.20.44%20PM.png)"
   ]
  },
  {
   "cell_type": "code",
   "execution_count": null,
   "id": "ab700453",
   "metadata": {},
   "outputs": [],
   "source": [
    "# originally tried to somehow use indexing individually, but then figured that index slicing would work\n",
    "\n",
    "def birthday(s, d, m):\n",
    "    segment_count = 0\n",
    "    for i in range(len(s) - 1):\n",
    "        if sum(s[i:i+m]) == d:\n",
    "            segment_count += 1\n",
    "    return segment_count\n",
    "# this got 2 of 3 test cases correctly\n",
    "\n",
    "# then tweaked a bit and got this correctly:\n",
    "def birthday(s, d, m):\n",
    "    segment_count = 0\n",
    "    for i in range(len(s)):\n",
    "        if sum(s[i:i+m]) == d:\n",
    "            segment_count += 1\n",
    "    return segment_count"
   ]
  },
  {
   "cell_type": "markdown",
   "id": "402737b3",
   "metadata": {},
   "source": [
    "### Electronics Shop"
   ]
  },
  {
   "attachments": {},
   "cell_type": "markdown",
   "id": "ca328eb4",
   "metadata": {},
   "source": [
    "![Alt text](Screen%20Shot%202023-03-29%20at%204.18.40%20PM.png)"
   ]
  },
  {
   "cell_type": "code",
   "execution_count": null,
   "id": "a03f69c2",
   "metadata": {},
   "outputs": [],
   "source": [
    "# not the most efficient solution, but it worked\n",
    "def getMoneySpent(keyboards, drives, b):\n",
    "    total_combo = []\n",
    "    in_budget = []\n",
    "    for keyboard in keyboards:\n",
    "        for drive in drives:\n",
    "            total = keyboard + drive\n",
    "            total_combo.append(total)\n",
    "    for total in total_combo:\n",
    "        if total <= b:\n",
    "            in_budget.append(total)\n",
    "        else: in_budget.append(-1)\n",
    "    sorted_total = sorted(in_budget)\n",
    "    return sorted_total[-1]\n",
    "\n",
    "# someone else's code\n",
    "def getMoneySpent(keyboards, drives, b):\n",
    "    a=[]\n",
    "    for i in keyboards:\n",
    "        for j in drives:\n",
    "            if (i+j)<=b:\n",
    "                a.append(i+j)\n",
    "    if len(a)==0:\n",
    "        return -1\n",
    "    else:\n",
    "        return max(a)\n",
    "# remember to make use of min/max rather than sort/sorted"
   ]
  },
  {
   "cell_type": "markdown",
   "id": "742b9c77",
   "metadata": {},
   "source": [
    "### Cats and a Mouse"
   ]
  },
  {
   "attachments": {},
   "cell_type": "markdown",
   "id": "290ce2fe",
   "metadata": {},
   "source": [
    "![Alt text](Screen%20Shot%202023-03-30%20at%209.49.29%20AM.png)"
   ]
  },
  {
   "cell_type": "code",
   "execution_count": null,
   "id": "b3bb3c29",
   "metadata": {},
   "outputs": [],
   "source": [
    "def catAndMouse(x, y, z):\n",
    "    a_dist = abs(x-z)\n",
    "    b_dist = abs(y-z)\n",
    "    if a_dist == b_dist:\n",
    "        return 'Mouse C'\n",
    "    elif a_dist > b_dist:\n",
    "        return 'Cat B'\n",
    "    else: \n",
    "        return 'Cat A'"
   ]
  },
  {
   "attachments": {},
   "cell_type": "markdown",
   "id": "55a84d7b",
   "metadata": {},
   "source": [
    "### Picking Numbers"
   ]
  },
  {
   "attachments": {},
   "cell_type": "markdown",
   "id": "ed20c425",
   "metadata": {},
   "source": [
    "![Alt text](Screen%20Shot%202023-03-31%20at%208.56.39%20AM.png)"
   ]
  },
  {
   "cell_type": "code",
   "execution_count": null,
   "id": "8ad18f95",
   "metadata": {},
   "outputs": [],
   "source": [
    "# my original code that only solved 2 of 10 test cases\n",
    "def pickingNumbers(a):\n",
    "    ordered_num = sorted(a)\n",
    "    less_than_eq_one = []\n",
    "    for i in range(len(ordered_num) - 1):\n",
    "        if ordered_num[i+1] - ordered_num[i] <= 1:\n",
    "            less_than_eq_one.append(ordered_num[i])\n",
    "    new_ordered_num = sorted(less_than_eq_one)\n",
    "    for i in range(len(new_ordered_num)):\n",
    "        if new_ordered_num[-1] - new_ordered_num[0] <= 1:\n",
    "            return len(new_ordered_num)\n",
    "        else:\n",
    "            new_ordered_num.pop()\n",
    "\n",
    "# chatgpt's code\n",
    "def pickingNumbers(a):\n",
    "    max_len = 0\n",
    "    freq = [0] * 100 # since the numbers are in the range [0, 100]\n",
    "    for num in a:\n",
    "        freq[num] += 1\n",
    "    for i in range(1, 100):\n",
    "        max_len = max(max_len, freq[i] + freq[i-1])\n",
    "    return max_len\n",
    "\n",
    "# I think I'm understanding this problem incorrectly"
   ]
  },
  {
   "cell_type": "markdown",
   "id": "9eb8ae38",
   "metadata": {},
   "source": [
    "### itertools.product()"
   ]
  },
  {
   "cell_type": "code",
   "execution_count": null,
   "id": "35f25907",
   "metadata": {},
   "outputs": [],
   "source": [
    "# computes cartesian product; equivalent to nested for-loops\n",
    "\n",
    "from itertools import product\n",
    "product(X,Y)\n",
    "\n",
    "# product(A,B) is same as ((x,y) for x in A for y in B)\n",
    "\n",
    ">>> from itertools import product\n",
    ">>>\n",
    ">>> print list(product([1,2,3],repeat = 2))\n",
    "[(1, 1), (1, 2), (1, 3), (2, 1), (2, 2), (2, 3), (3, 1), (3, 2), (3, 3)]\n",
    ">>>\n",
    ">>> print list(product([1,2,3],[3,4]))\n",
    "[(1, 3), (1, 4), (2, 3), (2, 4), (3, 3), (3, 4)]\n",
    ">>>\n",
    ">>> A = [[1,2,3],[3,4,5]]\n",
    ">>> print list(product(*A))\n",
    "[(1, 3), (1, 4), (1, 5), (2, 3), (2, 4), (2, 5), (3, 3), (3, 4), (3, 5)]\n",
    ">>>\n",
    ">>> B = [[1,2,3],[3,4,5],[7,8]]\n",
    ">>> print list(product(*B))\n",
    "[(1, 3, 7), (1, 3, 8), (1, 4, 7), (1, 4, 8), (1, 5, 7), (1, 5, 8), (2, 3, 7), (2, 3, 8), (2, 4, 7), (2, 4, 8), (2, 5, 7), (2, 5, 8), (3, 3, 7), (3, 3, 8), (3, 4, 7), (3, 4, 8), (3, 5, 7), (3, 5, 8)]"
   ]
  },
  {
   "attachments": {},
   "cell_type": "markdown",
   "id": "b08b3185",
   "metadata": {},
   "source": [
    "why does map(int, input.split()) work but not int(input.split())?<br><br>\n",
    "input.split() returns a list of strings that were separated by whitespace in the user input. For example, if the user input was \"10 20 30\", then input.split() would return [\"10\", \"20\", \"30\"].\n",
    "<br><br>\n",
    "map(int, input.split()) takes that list of strings and applies the int() function to each element in the list, which converts each string to an integer. The result is a map object that contains the converted integers. You can convert this map object to a list by using the list() function.\n",
    "<br><br>\n",
    "On the other hand, int(input.split()) tries to apply the int() function to the entire list of strings returned by input.split(), which is not valid syntax in Python. The int() function can only be applied to a single string at a time, not to a list of strings."
   ]
  },
  {
   "attachments": {},
   "cell_type": "markdown",
   "id": "0678690f",
   "metadata": {},
   "source": [
    "![Alt text](Screen%20Shot%202023-04-03%20at%202.44.45%20PM.png)"
   ]
  },
  {
   "cell_type": "code",
   "execution_count": null,
   "id": "0f4365cb",
   "metadata": {},
   "outputs": [],
   "source": [
    "from itertools import product\n",
    "\n",
    "A = list(map(int, input().split()))\n",
    "B = list(map(int, input().split()))\n",
    "\n",
    "AxB = list(product(A,B))\n",
    "\n",
    "for num in AxB:\n",
    "    print(num, end = ' ')"
   ]
  }
 ],
 "metadata": {
  "kernelspec": {
   "display_name": "base",
   "language": "python",
   "name": "python3"
  },
  "language_info": {
   "codemirror_mode": {
    "name": "ipython",
    "version": 3
   },
   "file_extension": ".py",
   "mimetype": "text/x-python",
   "name": "python",
   "nbconvert_exporter": "python",
   "pygments_lexer": "ipython3",
   "version": "3.9.12"
  },
  "vscode": {
   "interpreter": {
    "hash": "8a5edab282632443219e051e4ade2d1d5bbc671c781051bf1437897cbdfea0f1"
   }
  }
 },
 "nbformat": 4,
 "nbformat_minor": 5
}
