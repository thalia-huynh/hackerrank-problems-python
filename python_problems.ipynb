{
 "cells": [
  {
   "cell_type": "markdown",
   "id": "05b4a412",
   "metadata": {},
   "source": [
    "### Mini-Max Sum"
   ]
  },
  {
   "cell_type": "markdown",
   "id": "ac6e4c78",
   "metadata": {},
   "source": [
    "Given 5 positive integers, find the min and max values that can be calculated by adding exactly 4 of the 5 integers.<br><br>\n",
    "Sample Input:<br>\n",
    "1 2 3 4 5<br><br>\n",
    "Sample Output:<br>\n",
    "16 24"
   ]
  },
  {
   "cell_type": "code",
   "execution_count": 8,
   "id": "c2d45b7f",
   "metadata": {},
   "outputs": [],
   "source": [
    "def miniMaxSum(arr):\n",
    "    arr.sort()\n",
    "    min_sum = sum(arr[:4])\n",
    "    max_sum = sum(arr[1:])\n",
    "    print(min_sum, max_sum)"
   ]
  },
  {
   "cell_type": "code",
   "execution_count": 9,
   "id": "c688b890",
   "metadata": {},
   "outputs": [
    {
     "name": "stdout",
     "output_type": "stream",
     "text": [
      "10 14\n"
     ]
    }
   ],
   "source": [
    "miniMaxSum([1,2, 3, 4, 5])"
   ]
  },
  {
   "cell_type": "markdown",
   "id": "8c3decbd",
   "metadata": {},
   "source": [
    "<b>Notes</b><br>\n",
    "- <i>arr.sort()</i> sorts original list in place while <i>sorted(arr)</i> returns a new list.\n",
    "- Originally ended with <i>return min_sum, max_sum</i> which resulted in output of <i>10, 14</i> but output needed to be <i>10 14</i> which was accomplished with <i>print(min_sum, max_sum)</i>."
   ]
  },
  {
   "cell_type": "markdown",
   "id": "b5641e1b",
   "metadata": {},
   "source": [
    "### Birthday Cake Candles"
   ]
  },
  {
   "attachments": {},
   "cell_type": "markdown",
   "id": "2c60ee8f",
   "metadata": {},
   "source": [
    "![Alt text](Screen%20Shot%202023-02-13%20at%2010.33.32%20AM.png)"
   ]
  },
  {
   "cell_type": "code",
   "execution_count": 10,
   "id": "a7cad4a8",
   "metadata": {},
   "outputs": [],
   "source": [
    "def birthdayCakeCandles(candles):\n",
    "    max_height = max(candles)\n",
    "    candle_count = 0\n",
    "    for i in range(candles_count):\n",
    "        if candles[i] == max_height:\n",
    "            candle_count += 1\n",
    "        else:\n",
    "            pass\n",
    "    return candle_count"
   ]
  },
  {
   "cell_type": "code",
   "execution_count": 13,
   "id": "3eb41c40",
   "metadata": {},
   "outputs": [],
   "source": [
    "# another person's code\n",
    "def birthdayCakeCandles(candles):\n",
    "    # Write your code here\n",
    "    return candles.count(max(candles))"
   ]
  },
  {
   "attachments": {},
   "cell_type": "markdown",
   "id": "672e9015",
   "metadata": {},
   "source": [
    "### Time Conversion"
   ]
  },
  {
   "attachments": {},
   "cell_type": "markdown",
   "id": "d4c2c7a2",
   "metadata": {},
   "source": [
    "![Alt text](Screen%20Shot%202023-02-13%20at%2010.19.45%20AM.png)"
   ]
  },
  {
   "cell_type": "code",
   "execution_count": 16,
   "id": "aa3651c5",
   "metadata": {},
   "outputs": [],
   "source": [
    "def timeConversions(s):\n",
    "    if 'AM' in s:\n",
    "        if '12:' in s:\n",
    "            return '00' + s[2:-2]\n",
    "        else:\n",
    "            return s[:-2]\n",
    "    elif 'PM' in s:\n",
    "        if '12:' in s:\n",
    "            return s[:-2]\n",
    "        else:\n",
    "            hour = str(int(s[0:2]) + 12)\n",
    "            return hour + s[2:-2]"
   ]
  },
  {
   "cell_type": "code",
   "execution_count": 17,
   "id": "653bcd25",
   "metadata": {},
   "outputs": [
    {
     "data": {
      "text/plain": [
       "'07:40:03'"
      ]
     },
     "execution_count": 17,
     "metadata": {},
     "output_type": "execute_result"
    }
   ],
   "source": [
    "timeConversions('07:40:03AM')"
   ]
  },
  {
   "attachments": {},
   "cell_type": "markdown",
   "id": "be34502a",
   "metadata": {},
   "source": [
    "#### Notes\n",
    "- using <i>print()</i> gave incorrect answer"
   ]
  },
  {
   "attachments": {},
   "cell_type": "markdown",
   "id": "e24ada37",
   "metadata": {},
   "source": [
    "### Grading Students"
   ]
  },
  {
   "attachments": {},
   "cell_type": "markdown",
   "id": "d426bde3",
   "metadata": {},
   "source": [
    "![Alt text](Screen%20Shot%202023-02-14%20at%202.27.56%20PM.png)"
   ]
  },
  {
   "cell_type": "code",
   "execution_count": 25,
   "id": "5ee76e4a",
   "metadata": {},
   "outputs": [
    {
     "data": {
      "text/plain": [
       "33"
      ]
     },
     "execution_count": 25,
     "metadata": {},
     "output_type": "execute_result"
    }
   ],
   "source": [
    "# original answer which was wrong\n",
    "def gradingStudents(grades):\n",
    "    for i in range(len(grades)):\n",
    "     if grades[i] < 38:\n",
    "        grade = grades[i]\n",
    "     else:\n",
    "        if grades[i] % 5 < 3:\n",
    "           grade = grades[i]\n",
    "        elif grades[i] % 5 == 3:\n",
    "           grade = grades[i] + 2\n",
    "        elif grades[i] % 5 == 4:\n",
    "           grade = grades[i] + 1\n",
    "    return grade\n",
    "\n",
    "grades = [73, 67, 38, 33]\n",
    "gradingStudents(grades)"
   ]
  },
  {
   "cell_type": "code",
   "execution_count": 26,
   "id": "6d73aa6f",
   "metadata": {},
   "outputs": [
    {
     "data": {
      "text/plain": [
       "[75, 67, 40, 33]"
      ]
     },
     "execution_count": 26,
     "metadata": {},
     "output_type": "execute_result"
    }
   ],
   "source": [
    "# correct answer\n",
    "def gradingStudents(grades):\n",
    "    for i in range(len(grades)):\n",
    "        a = grades[i] % 5\n",
    "        b = grades[i] - a + 5\n",
    "        c = b - grades[i]\n",
    "        if c < 3 and grades[i] >= 38:\n",
    "            grades[i] = b\n",
    "    return grades\n",
    "\n",
    "grades = [73, 67, 38, 33]\n",
    "gradingStudents(grades)"
   ]
  },
  {
   "cell_type": "code",
   "execution_count": null,
   "id": "26f95fcd",
   "metadata": {},
   "outputs": [],
   "source": []
  }
 ],
 "metadata": {
  "kernelspec": {
   "display_name": "base",
   "language": "python",
   "name": "python3"
  },
  "language_info": {
   "codemirror_mode": {
    "name": "ipython",
    "version": 3
   },
   "file_extension": ".py",
   "mimetype": "text/x-python",
   "name": "python",
   "nbconvert_exporter": "python",
   "pygments_lexer": "ipython3",
   "version": "3.9.7"
  },
  "vscode": {
   "interpreter": {
    "hash": "d2c3c19875a7913508ef5ba8e75b2411bf8eca9f21f2a20ea83944949a513570"
   }
  }
 },
 "nbformat": 4,
 "nbformat_minor": 5
}
